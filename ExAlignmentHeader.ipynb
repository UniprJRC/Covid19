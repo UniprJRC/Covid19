{
 "cells": [
  {
   "cell_type": "markdown",
   "metadata": {},
   "source": [
    "\n",
    "# <span style=\"color:rgb(213,80,0)\">Example of Date and Country extraction</span>\n",
    "\n",
    "Example of call to multialignHeader without optional arguments\n",
    ""
   ]
  },
  {
   "cell_type": "code",
   "execution_count": 1,
   "metadata": {},
   "source": [
    "\n",
    "  % Load fasta file containing original covid and other sequences\n",
    "    Seqs = fastaread(\"X01sel.txt\");\n",
    "\n",
    "    % Call of multialignHeader with all default arguments\n",
    "    T=multialignHeader(Seqs);\n",
    "\n",
    "    disp('Output table (first 8 rows)')\n",
    "    disp(head(T))\n",
    "\n",
    ""
   ],
   "outputs": []
}
 ],
 "metadata": {
  "kernelspec": {
   "display_name": "MATLAB (matlabkernel)",
   "language": "matlab",
   "name": "matlab"
  },
  "language_info": {
   "file_extension": ".m",
   "mimetype": "text/matlab",
   "name": "matlab",
   "nbconvert_exporter": "matlab",
   "pygments_lexer": "matlab",
   "version": "25.1.0.2897550"
  }
 },
 "nbformat": 4,
 "nbformat_minor": 4
}