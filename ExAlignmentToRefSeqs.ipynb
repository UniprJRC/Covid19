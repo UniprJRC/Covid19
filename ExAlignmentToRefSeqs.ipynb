{
 "cells": [
  {
   "cell_type": "markdown",
   "metadata": {},
   "source": [
    "\n",
    "# <span style=\"color:rgb(213,80,0)\">Example of multialignment to reference sequences </span>\n",
    "\n",
    "Example of call to multialign2ref without optional arguments\n",
    ""
   ]
  },
  {
   "cell_type": "code",
   "execution_count": 1,
   "metadata": {},
   "source": [
    "    % Load fastafile containing original covid and other sequences\n",
    "    Seqs2align = fastaread(\"X01.txt\");\n",
    "\n",
    "    % Load fasta file containing the 5 covid variants\n",
    "    % (Alpha, Beta, Delta, Gamma, Omicron)\n",
    "    variants = fastaread('Variants.txt');\n",
    "\n",
    "    % Original covid sequence and variants make up the reference sequences\n",
    "    refSequences=[Seqs2align(1); variants];\n",
    "    % Perform multialignment on the reference sequences\n",
    "    refSequences=multialign(refSequences);\n",
    "\n",
    "    % Remove initial covid sequence from Seqs2align\n",
    "    Seqs2align=[Seqs2align(2:end)];\n",
    "\n",
    "    %Call of multialgin2ref with all default arguments\n",
    "    Seqsaligned=multialign2ref(refSequences,Seqs2align(1:10000));"
   ],
   "outputs": [
    {
     "data": {
      "text/plain": [
       "Starting parallel pool (parpool) using the 'Processes' profile ...\n",
       "Connected to parallel pool with 8 workers.\n",
       "Process started\n",
       "   29-Apr-2025 15:32:31\n",
       "Total estimated time (minutes)=1.781"
      ]
     },
     "metadata": {},
     "execution_count":  1,
     "output_type": "execute_result"
    }
   ]
  }
 ],
 "metadata": {
  "kernelspec": {
   "display_name": "MATLAB (matlabkernel)",
   "language": "matlab",
   "name": "matlab"
  },
  "language_info": {
   "file_extension": ".m",
   "mimetype": "text/matlab",
   "name": "matlab",
   "nbconvert_exporter": "matlab",
   "pygments_lexer": "matlab",
   "version": "25.1.0.2897550"
  }
 },
 "nbformat": 4,
 "nbformat_minor": 4
}